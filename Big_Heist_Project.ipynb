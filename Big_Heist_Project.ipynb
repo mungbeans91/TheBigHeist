{
 "cells": [
  {
   "cell_type": "markdown",
   "id": "76eeff5a",
   "metadata": {},
   "source": [
    "# Algorithms Project: The Big Heist\n",
    "\n",
    "![bank robbers](./assets/bank-robbers.jpg)\n",
    "<p style=\"text-align:right;line-height:0;\"><a href='https://www.freepik.com/vectors/background'>Bank robbers vector created by vectorpocket - www.freepik.com</a></p>\n",
    "\n",
    "## Description\n",
    "\n",
    "Given list of bank locations, how much money each one holds and the time it would take to rob each one, you need to apply your hard-won algorithm knowledge to make as much profit as possible! _I bet you didn't think that data science could be this profitable!_\n",
    "\n",
    "You will design and write a solution to an NP-Had algorithm to this problem\n",
    "\n",
    "You will need to apply all the knowledge learned up to now to get the best possible result at this task given a large list of banks and 3 minutes to run your algorithm.\n",
    "\n",
    "The list of banks is in `data/bank_data.csv`. This is what the data looks like.\n",
    "\n",
    "```csv\n",
    "id, x_coordinate, y_coordinate, money, time (hr)\n",
    "0, 11.4, 3.3, 5000, 0.6\n",
    "1, 6.9, 7.1, 15000, 0.3\n",
    "2, 1.4, 13.2, 900, 1.1\n",
    "```\n",
    "\n",
    "You have **24 hours** to make as much money as possible and then escape.\n",
    "\n",
    "## Rules\n",
    "\n",
    "- Your run can start anywhere on the map but it has to end at the **helicopter escape zone**: coordinates (0,0)\n",
    "    - If you try to rob too many banks and can't get to the helicopter in 24 hours, you get caught and go to jail.\n",
    "\n",
    "- Your solution is a list or array of integers (eg. `[580, 433, 24, 998]`) where the numbers are the IDs of each banks. The ID of each bank is their index (their row index).\n",
    "\n",
    "- You travel between banks at 30 km/h. You have to travel from one bank to the next!\n",
    "    - Remember the formula to calculate the distance between two points.\n",
    "    - The coordinates are in kilometers.\n",
    "        - So (1, 1) and (1, 2) are one kilometer apart. \n",
    "        - This would take 1 / 30 hour = 2 minutes to travel\n",
    "\n",
    "- Your solution should be an approximative/heuristic algorithm\n",
    "    - This problem is NP-Hard, you won't find a fast enough algorithm that has the perfect solution\n",
    "    - It doesn't need to find the best solution\n",
    "    - Find the best solution you can!\n",
    "\n",
    "- Your solution has to run on a common laptop in under 3 minutes for the 10,000 cities dataset\n",
    "    - You can use everything you want to achieve this:\n",
    "        - Use numpy, pandas, functions, algorithms\n",
    "        - You can use parallelism\n",
    "        - Use optimied libraries (pandas, numba, scipy, etc.)\n",
    "    - Test your code on **small subsets** of the data so they run fast\n",
    "        - Then scale your code up to bigger chunks of the data\n",
    "\n",
    "- Your input is a pandas dataframe with the bank data. Your output is a list of bank IDs in order that you rob them:\n",
    "\n",
    "```python\n",
    "# example\n",
    "df = pd.read_csv('bank_data.csv')\n",
    "robber_algorithm(df)\n",
    "\n",
    "# Output is a list of bank IDs\n",
    "[OUTPUT] --> [664, 2341, 26, 998, 9583, 24, 1, 444, 6783]\n",
    "```\n",
    "\n",
    "---\n",
    "\n"
   ]
  },
  {
   "cell_type": "code",
   "execution_count": 2,
   "id": "5af845c8",
   "metadata": {},
   "outputs": [],
   "source": [
    "import numpy as np\n",
    "import pandas as pd\n",
    "import matplotlib.pyplot as plt\n",
    "import seaborn as sns\n",
    "import math\n",
    "import sys\n",
    "from sklearn.neighbors import NearestNeighbors"
   ]
  },
  {
   "cell_type": "code",
   "execution_count": 3,
   "id": "e20356de",
   "metadata": {},
   "outputs": [],
   "source": [
    "# import the check solution\n",
    "sys.path.append('./utils/')\n",
    "from check_solution import check_solution\n",
    "\n",
    "# Read the file\n",
    "df = pd.read_csv('./data/bank_data.csv')"
   ]
  },
  {
   "cell_type": "code",
   "execution_count": 8,
   "id": "489afe1e",
   "metadata": {},
   "outputs": [],
   "source": [
    "# function to calculate the distance between two points\n",
    "def distance(x1, y1, x2, y2):\n",
    "    return math.hypot(x2 - x1, y2 - y1)\n",
    "\n",
    "# function to calculate the value factor of a bank: money/(rob time + travel time), return both the time spent at this back (including travel time) and the value_factor of this back\n",
    "def value_factor(money, time, distance):\n",
    "    ttime = time + distance/30\n",
    "    value = money/ttime\n",
    "    return (ttime, value)"
   ]
  },
  {
   "cell_type": "code",
   "execution_count": 9,
   "id": "3a4d9ea5",
   "metadata": {},
   "outputs": [],
   "source": [
    "def robber_algorithm(df):\n",
    "    # Create a list of all banks' coordinates (x,y)\n",
    "    points = list(zip(df['x_coordinate'],df['y_coordinate']))\n",
    "    # Create a knn model to fit all the points\n",
    "    knn = NearestNeighbors(n_neighbors = 500).fit(points)\n",
    "\n",
    "    prev = (0,0) # start from the helicopter zone (0,0) and go backwards\n",
    "    path = [] # Create an empty list for the travel path\n",
    "    time_left = 24 # The time limit\n",
    "\n",
    "    while True:\n",
    "        values = [] # An empty list to store the values\n",
    "        time_spent = [] # An empty list to store the time needed to rob this bank including travel time\n",
    "        # The k closest neighbors for the current point\n",
    "        nbrs = knn.kneighbors([prev], return_distance = False)[0]\n",
    "        for row in nbrs:\n",
    "            if row not in path:\n",
    "                # calculate the distance between this point and its closest neighbor\n",
    "                x1, y1 = points[row]\n",
    "                x2, y2 = prev\n",
    "                dist = distance(x1, y1, x2, y2)\n",
    "                # calculate the value_factor of each of the neighbors\n",
    "                ttime, value = value_factor(df.iloc[row]['money'], df.iloc[row]['time (hr)'], dist)\n",
    "                values.append(value)\n",
    "                time_spent.append(ttime)\n",
    "            else:\n",
    "                values.append(0)\n",
    "                time_spent.append(0)\n",
    "        \n",
    "        # pick the bank with the highest value factor\n",
    "        ind = values.index(max(values))\n",
    "        step=nbrs[ind]\n",
    "        # if there is still time left to rob this bank, add it to the path, otherwise, stop here\n",
    "        if time_left - time_spent[ind] >=0:\n",
    "            path.append(step)\n",
    "            time_left -= time_spent[ind]\n",
    "            prev = points[step]\n",
    "        else:\n",
    "            break\n",
    "    \n",
    "    my_path = path[::-1]\n",
    "    return my_path\n"
   ]
  },
  {
   "cell_type": "code",
   "execution_count": 10,
   "id": "483f4af7",
   "metadata": {},
   "outputs": [],
   "source": [
    "my_path = robber_algorithm(df)"
   ]
  },
  {
   "cell_type": "code",
   "execution_count": 11,
   "id": "b3ca35b2",
   "metadata": {},
   "outputs": [
    {
     "name": "stdout",
     "output_type": "stream",
     "text": [
      "Time Remaining: 0.23430405896293943\n"
     ]
    },
    {
     "data": {
      "text/plain": [
       "14341400.0"
      ]
     },
     "execution_count": 11,
     "metadata": {},
     "output_type": "execute_result"
    }
   ],
   "source": [
    "check_solution(my_path, df, speed=30.)"
   ]
  },
  {
   "cell_type": "code",
   "execution_count": null,
   "metadata": {},
   "outputs": [],
   "source": []
  }
 ],
 "metadata": {
  "interpreter": {
   "hash": "40d3a090f54c6569ab1632332b64b2c03c39dcf918b08424e98f38b5ae0af88f"
  },
  "kernelspec": {
   "display_name": "Python 3.7.11 64-bit ('base': conda)",
   "name": "python3"
  },
  "language_info": {
   "codemirror_mode": {
    "name": "ipython",
    "version": 3
   },
   "file_extension": ".py",
   "mimetype": "text/x-python",
   "name": "python",
   "nbconvert_exporter": "python",
   "pygments_lexer": "ipython3",
   "version": "3.7.11"
  }
 },
 "nbformat": 4,
 "nbformat_minor": 5
}
